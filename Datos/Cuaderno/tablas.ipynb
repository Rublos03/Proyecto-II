{
 "cells": [
  {
   "cell_type": "markdown",
   "metadata": {},
   "source": [
    "# Pasar de csv a xlsx"
   ]
  },
  {
   "cell_type": "code",
   "execution_count": 7,
   "metadata": {},
   "outputs": [],
   "source": [
    "import pandas as pd"
   ]
  },
  {
   "cell_type": "code",
   "execution_count": null,
   "metadata": {},
   "outputs": [
    {
     "name": "stderr",
     "output_type": "stream",
     "text": [
      "C:\\Users\\ruben\\AppData\\Local\\Temp\\ipykernel_10744\\3098801644.py:3: DtypeWarning: Columns (2) have mixed types. Specify dtype option on import or set low_memory=False.\n",
      "  statistics_commodity = pd.read_csv(r\"C:\\Users\\ruben\\OneDrive - CENTRO EDUCATIVO FASTA MADRE SACRAMENTO\\Escritorio\\CIENCIA DE DATOS\\2º\\PROY II\\Datos\\commodity_trade_statistics_data.csv\")\n"
     ]
    }
   ],
   "source": [
    "statistics_commodity = pd.read_csv(r\"C:\\Users\\ruben\\OneDrive - CENTRO EDUCATIVO FASTA MADRE SACRAMENTO\\Escritorio\\CIENCIA DE DATOS\\2º\\PROY II\\Datos\\commodity_trade_statistics_data.csv\") "
   ]
  },
  {
   "cell_type": "code",
   "execution_count": 4,
   "metadata": {},
   "outputs": [
    {
     "name": "stderr",
     "output_type": "stream",
     "text": [
      "C:\\Users\\ruben\\AppData\\Local\\Temp\\ipykernel_10744\\1239749901.py:1: DtypeWarning: Columns (10) have mixed types. Specify dtype option on import or set low_memory=False.\n",
      "  union_europea_PIB = pd.read_csv(r\"C:\\Users\\ruben\\OneDrive - CENTRO EDUCATIVO FASTA MADRE SACRAMENTO\\Escritorio\\CIENCIA DE DATOS\\2º\\PROY II\\Datos\\estat_nama_10_a10_en(1).csv\")\n"
     ]
    }
   ],
   "source": [
    "union_europea_PIB = pd.read_csv(r\"C:\\Users\\ruben\\OneDrive - CENTRO EDUCATIVO FASTA MADRE SACRAMENTO\\Escritorio\\CIENCIA DE DATOS\\2º\\PROY II\\Datos\\estat_nama_10_a10_en(1).csv\")\n",
    "union_europea_PIB.to_excel(\"union_europea_PIB.xlsx\", index=False) "
   ]
  },
  {
   "cell_type": "code",
   "execution_count": 3,
   "metadata": {},
   "outputs": [
    {
     "name": "stderr",
     "output_type": "stream",
     "text": [
      "C:\\Users\\ruben\\AppData\\Local\\Temp\\ipykernel_10744\\3520758807.py:1: DtypeWarning: Columns (9) have mixed types. Specify dtype option on import or set low_memory=False.\n",
      "  union_europea_IE = pd.read_csv(r\"C:\\Users\\ruben\\OneDrive - CENTRO EDUCATIVO FASTA MADRE SACRAMENTO\\Escritorio\\CIENCIA DE DATOS\\2º\\PROY II\\Datos\\estat_nama_10_exi_en.csv\")\n"
     ]
    }
   ],
   "source": [
    "union_europea_IE = pd.read_csv(r\"C:\\Users\\ruben\\OneDrive - CENTRO EDUCATIVO FASTA MADRE SACRAMENTO\\Escritorio\\CIENCIA DE DATOS\\2º\\PROY II\\Datos\\estat_nama_10_exi_en.csv\")\n",
    "union_europea_IE.to_excel(\"union_europea_IE.xlsx\", index=False) "
   ]
  },
  {
   "cell_type": "code",
   "execution_count": 5,
   "metadata": {},
   "outputs": [],
   "source": [
    "indice_libertad = pd.read_csv(r\"C:\\Users\\ruben\\OneDrive - CENTRO EDUCATIVO FASTA MADRE SACRAMENTO\\Escritorio\\CIENCIA DE DATOS\\2º\\PROY II\\Datos\\freedomIndexUpdated2024.csv\")\n",
    "indice_libertad.to_excel(\"indice_libertad.xlsx\", index=False) "
   ]
  },
  {
   "cell_type": "code",
   "execution_count": null,
   "metadata": {},
   "outputs": [],
   "source": [
    "indice_libertad = pd.read_csv(r\"C:\\Users\\ruben\\OneDrive - CENTRO EDUCATIVO FASTA MADRE SACRAMENTO\\Escritorio\\CIENCIA DE DATOS\\2º\\PROY II\\Datos\\freedomIndexUpdated2024.csv\")\n",
    "indice_libertad.to_excel(\"indice_libertad.xlsx\", index=False) "
   ]
  },
  {
   "cell_type": "code",
   "execution_count": 6,
   "metadata": {},
   "outputs": [],
   "source": [
    "food_production = pd.read_csv(r\"C:\\Users\\ruben\\OneDrive - CENTRO EDUCATIVO FASTA MADRE SACRAMENTO\\Escritorio\\CIENCIA DE DATOS\\2º\\PROY II\\Datos\\world food production.csv\")\n",
    "food_production.to_excel(\"food_production.xlsx\", index=False) "
   ]
  }
 ],
 "metadata": {
  "kernelspec": {
   "display_name": "Python 3",
   "language": "python",
   "name": "python3"
  },
  "language_info": {
   "codemirror_mode": {
    "name": "ipython",
    "version": 3
   },
   "file_extension": ".py",
   "mimetype": "text/x-python",
   "name": "python",
   "nbconvert_exporter": "python",
   "pygments_lexer": "ipython3",
   "version": "3.12.2"
  }
 },
 "nbformat": 4,
 "nbformat_minor": 2
}
